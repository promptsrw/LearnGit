{
 "cells": [
  {
   "cell_type": "markdown",
   "id": "52c23260-0850-4117-b423-5a39c6e0f62b",
   "metadata": {},
   "source": [
    "# Data Science Tools and Ecosystem"
   ]
  },
  {
   "cell_type": "markdown",
   "id": "76cfe712-9cee-442e-b1e8-e79589793522",
   "metadata": {},
   "source": [
    "In this notebook, Data Science Tools and Ecosystem are summarized."
   ]
  },
  {
   "cell_type": "markdown",
   "id": "d98cdfb5-ab7f-4f68-a31a-342481b88f23",
   "metadata": {},
   "source": [
    "## Objectives:\n",
    "- List of popular languages for data scientist\n",
    "- Libraries for data science\n",
    "- Data science tools"
   ]
  },
  {
   "cell_type": "markdown",
   "id": "4fecf52b-956e-4b7d-a8aa-6e96fd508f85",
   "metadata": {},
   "source": [
    "Some of the popular languages that Data Scientists use are:\n",
    "1. Python\n",
    "2. C++\n",
    "3. Javascript "
   ]
  },
  {
   "cell_type": "markdown",
   "id": "49a8cdd1-507f-47bc-a1f0-2506d55da28e",
   "metadata": {},
   "source": [
    "Some of the commonly used libraries used by Data Scientists include:\n",
    "1. NumPy\n",
    "2. TensorFlow\n",
    "3. Pandas"
   ]
  },
  {
   "cell_type": "markdown",
   "id": "4d8c5ac9-206c-4ea0-8882-00c4ec9d1e9e",
   "metadata": {},
   "source": [
    "|Data Science Tools|\n",
    "|:---|\n",
    "| JuPyter |\n",
    "| RStudio |\n",
    "| GitHub |"
   ]
  },
  {
   "cell_type": "markdown",
   "id": "3005c6ef-5878-432d-8fce-e9159303f516",
   "metadata": {},
   "source": [
    "### Below are a few examples of evaluating arithmetic expressions in Python"
   ]
  },
  {
   "cell_type": "markdown",
   "id": "818adc1f-380c-4290-9ab3-035fe09a695a",
   "metadata": {},
   "source": [
    "A simple multiplication and addition"
   ]
  },
  {
   "cell_type": "code",
   "execution_count": 4,
   "id": "717e786b-d8ae-4716-9f66-17457e424ddc",
   "metadata": {},
   "outputs": [
    {
     "data": {
      "text/plain": [
       "17"
      ]
     },
     "execution_count": 4,
     "metadata": {},
     "output_type": "execute_result"
    }
   ],
   "source": [
    "(3*4)+5"
   ]
  },
  {
   "cell_type": "markdown",
   "id": "3c8a0c74-11ea-43d8-803a-ee62a1e889c8",
   "metadata": {},
   "source": [
    "Conversion of 200 minutes to hours"
   ]
  },
  {
   "cell_type": "code",
   "execution_count": 5,
   "id": "aa5751f4-1fb0-499f-bda1-aa5722208905",
   "metadata": {},
   "outputs": [
    {
     "data": {
      "text/plain": [
       "3.3333333333333335"
      ]
     },
     "execution_count": 5,
     "metadata": {},
     "output_type": "execute_result"
    }
   ],
   "source": [
    "200/60"
   ]
  },
  {
   "cell_type": "markdown",
   "id": "3ec0e382-0314-4f06-ac2b-a75965a417ec",
   "metadata": {},
   "source": [
    "## Author"
   ]
  },
  {
   "cell_type": "markdown",
   "id": "2169f4e4-39dc-4e26-b9fe-e3a56610b654",
   "metadata": {},
   "source": [
    "Mr. Sorawit Lertwilaikulnatee"
   ]
  },
  {
   "cell_type": "code",
   "execution_count": null,
   "id": "0a0d5898-bf37-4360-889e-c7e00a1cfc06",
   "metadata": {},
   "outputs": [],
   "source": []
  }
 ],
 "metadata": {
  "kernelspec": {
   "display_name": "Python 3 (ipykernel)",
   "language": "python",
   "name": "python3"
  },
  "language_info": {
   "codemirror_mode": {
    "name": "ipython",
    "version": 3
   },
   "file_extension": ".py",
   "mimetype": "text/x-python",
   "name": "python",
   "nbconvert_exporter": "python",
   "pygments_lexer": "ipython3",
   "version": "3.12.2"
  }
 },
 "nbformat": 4,
 "nbformat_minor": 5
}
